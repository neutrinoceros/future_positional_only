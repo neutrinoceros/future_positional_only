{
 "cells": [
  {
   "cell_type": "code",
   "execution_count": null,
   "metadata": {},
   "outputs": [],
   "source": [
    "! python test_performance.py > perf.json"
   ]
  },
  {
   "cell_type": "code",
   "execution_count": null,
   "metadata": {},
   "outputs": [],
   "source": [
    "import numpy as np\n",
    "import matplotlib.pyplot as plt\n",
    "import json\n",
    "from pprint import pprint\n",
    "\n",
    "with open(\"perf.json\") as fh:\n",
    "    data = json.load(fh)\n",
    "\n",
    "pprint(data)\n"
   ]
  },
  {
   "cell_type": "code",
   "execution_count": null,
   "metadata": {},
   "outputs": [],
   "source": [
    "fig, ax = plt.subplots()\n",
    "bar_width=0.75\n",
    "ntypes = len(data[\"func0\"])\n",
    "offset = bar_width / ntypes\n",
    "\n",
    "baseline = np.array([list(dat.values())[0] for dat in data.values()])\n",
    "\n",
    "for i in range(ntypes):\n",
    "    x = np.arange(3) + i * offset\n",
    "    y = np.array([list(dat.values())[i] for dat in data.values()]) / baseline\n",
    "\n",
    "    ax.bar(x, y, width=bar_width/5)\n",
    "\n",
    "ax.set_xticks([0.25, 1.25, 2.25])\n",
    "ax.set_xticklabels(list(data.keys()))\n",
    "\n",
    "ax.set_ylabel(\"function call overhead (normalized by baseline in blue)\")\n",
    "\n",
    "ax.legend(labels=[\n",
    "    \"no decorator\",\n",
    "    \"@noop (Python)\",\n",
    "    \"@defaults (C)\",\n",
    "    \"@fpo (C)\"\n",
    "])"
   ]
  },
  {
   "cell_type": "code",
   "execution_count": null,
   "metadata": {},
   "outputs": [],
   "source": []
  }
 ],
 "metadata": {
  "kernelspec": {
   "display_name": ".venv",
   "language": "python",
   "name": "python3"
  },
  "language_info": {
   "codemirror_mode": {
    "name": "ipython",
    "version": 3
   },
   "file_extension": ".py",
   "mimetype": "text/x-python",
   "name": "python",
   "nbconvert_exporter": "python",
   "pygments_lexer": "ipython3",
   "version": "3.12.4"
  }
 },
 "nbformat": 4,
 "nbformat_minor": 2
}
