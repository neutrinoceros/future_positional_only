{
 "cells": [
  {
   "cell_type": "code",
   "execution_count": null,
   "metadata": {},
   "outputs": [],
   "source": [
    "! python test_performance.py > no_args_perf.json"
   ]
  },
  {
   "cell_type": "code",
   "execution_count": null,
   "metadata": {},
   "outputs": [],
   "source": [
    "import numpy as np\n",
    "import matplotlib.pyplot as plt\n",
    "import json\n",
    "from pprint import pprint\n",
    "\n",
    "def save(fig, path):\n",
    "    print(f\"saving to {path}\")\n",
    "    fig.savefig(path)\n",
    "\n",
    "annotation_kwargs = dict(alpha=0.6, color=\"black\")\n",
    "labels = [\n",
    "    \"no decorator\",\n",
    "    \"@noop() (Python)\",\n",
    "    \"@defaults() (C)\",\n",
    "    \"@fpo() (C)\",\n",
    "]"
   ]
  },
  {
   "cell_type": "code",
   "execution_count": null,
   "metadata": {},
   "outputs": [],
   "source": [
    "with open(\"no_args_perf.json\") as fh:\n",
    "    data = json.load(fh)\n",
    "\n",
    "pprint(data)"
   ]
  },
  {
   "cell_type": "code",
   "execution_count": null,
   "metadata": {},
   "outputs": [],
   "source": [
    "fig, ax = plt.subplots()\n",
    "ax.set_title(\"No arguments passed\")\n",
    "\n",
    "width=0.75\n",
    "ntypes = len(data[\"func5\"])\n",
    "offset = width / ntypes\n",
    "\n",
    "baseline = np.array([list(dat.values())[0] for dat in data.values()])\n",
    "\n",
    "for i in range(ntypes):\n",
    "    x = np.arange(3) + i * offset\n",
    "    y = np.array([list(dat.values())[i] for dat in data.values()]) / baseline\n",
    "\n",
    "    ax.bar(x, y, width=width/5)\n",
    "\n",
    "ax.set_xticks([0.275, 1.275, 2.275])\n",
    "ax.set_xticklabels([\"no args\", \"1 arg\", \"5 args\"])\n",
    "\n",
    "ax.set_ylabel(\"function call overhead (in units of 'no decorator')\")\n",
    "\n",
    "ax.legend(labels=labels)\n",
    "\n",
    "ax.axhline(2, ls=\"--\", **annotation_kwargs)\n",
    "ax.text(0.3, 2.1, \"optimal perf\", **annotation_kwargs)\n",
    "xlims = ax.get_xlim()"
   ]
  },
  {
   "cell_type": "code",
   "execution_count": null,
   "metadata": {},
   "outputs": [],
   "source": [
    "save(fig, \"/tmp/args0.png\")"
   ]
  },
  {
   "cell_type": "code",
   "execution_count": null,
   "metadata": {},
   "outputs": [],
   "source": [
    "! python test_performance.py --nkwargs=1 > single_arg_perf.json"
   ]
  },
  {
   "cell_type": "code",
   "execution_count": null,
   "metadata": {},
   "outputs": [],
   "source": [
    "with open(\"single_arg_perf.json\") as fh:\n",
    "    data = json.load(fh)\n",
    "\n",
    "pprint(data)"
   ]
  },
  {
   "cell_type": "code",
   "execution_count": null,
   "metadata": {},
   "outputs": [],
   "source": [
    "fig, ax = plt.subplots()\n",
    "ax.set_title(\"One keyword passed\")\n",
    "ax.set_xlim(*xlims)\n",
    "\n",
    "width=0.75\n",
    "ntypes = len(data[\"func5\"])\n",
    "offset = width / ntypes\n",
    "\n",
    "baseline = np.array([list(dat.values())[0] for dat in data.values()])\n",
    "\n",
    "for i in range(ntypes):\n",
    "    x = np.arange(1, 3) + i * offset\n",
    "    y = np.array([list(dat.values())[i] for dat in data.values()]) / baseline\n",
    "\n",
    "    ax.bar(x, y, width=width/5)\n",
    "\n",
    "ax.set_xticks([1.275, 2.275])\n",
    "ax.set_xticklabels([\"1 arg\", \"5 args\"])\n",
    "\n",
    "ax.set_ylabel(\"function call overhead (in units of 'no decorator')\")\n",
    "\n",
    "ax.legend(labels=labels)\n",
    "\n",
    "ax.axhline(2, ls=\"--\", **annotation_kwargs)\n",
    "ax.text(0.3, 2.1, \"optimal perf\", **annotation_kwargs)"
   ]
  },
  {
   "cell_type": "code",
   "execution_count": null,
   "metadata": {},
   "outputs": [],
   "source": [
    "save(fig, \"/tmp/args1.png\")"
   ]
  },
  {
   "cell_type": "code",
   "execution_count": null,
   "metadata": {},
   "outputs": [],
   "source": [
    "! python test_performance.py --nkwargs=3 > three_arg_perf.json"
   ]
  },
  {
   "cell_type": "code",
   "execution_count": null,
   "metadata": {},
   "outputs": [],
   "source": [
    "with open(\"three_arg_perf.json\") as fh:\n",
    "    data = json.load(fh)\n",
    "\n",
    "pprint(data)"
   ]
  },
  {
   "cell_type": "code",
   "execution_count": null,
   "metadata": {},
   "outputs": [],
   "source": [
    "fig, ax = plt.subplots()\n",
    "ax.set_title(\"Three keywords passed\")\n",
    "ax.set_xlim(*xlims)\n",
    "\n",
    "width=0.75\n",
    "ntypes = len(data[\"func5\"])\n",
    "offset = width / ntypes\n",
    "\n",
    "baseline = np.array([list(dat.values())[0] for dat in data.values()])\n",
    "\n",
    "for i in range(ntypes):\n",
    "    x = np.arange(2, 3) + i * offset\n",
    "    y = np.array([list(dat.values())[i] for dat in data.values()]) / baseline\n",
    "\n",
    "    ax.bar(x, y, width=width/5)\n",
    "\n",
    "ax.set_xticks([2.275])\n",
    "ax.set_xticklabels([\"5 args\"])\n",
    "\n",
    "ax.set_ylabel(\"function call overhead (in units of 'no decorator')\")\n",
    "\n",
    "ax.legend(labels=labels)\n",
    "\n",
    "ax.axhline(2, ls=\"--\", **annotation_kwargs)\n",
    "ax.text(0.3, 2.1, \"optimal perf\", **annotation_kwargs)"
   ]
  },
  {
   "cell_type": "code",
   "execution_count": null,
   "metadata": {},
   "outputs": [],
   "source": [
    "save(fig, \"/tmp/args3.png\")"
   ]
  }
 ],
 "metadata": {
  "kernelspec": {
   "display_name": ".venv",
   "language": "python",
   "name": "python3"
  },
  "language_info": {
   "codemirror_mode": {
    "name": "ipython",
    "version": 3
   },
   "file_extension": ".py",
   "mimetype": "text/x-python",
   "name": "python",
   "nbconvert_exporter": "python",
   "pygments_lexer": "ipython3",
   "version": "3.12.4"
  }
 },
 "nbformat": 4,
 "nbformat_minor": 2
}
